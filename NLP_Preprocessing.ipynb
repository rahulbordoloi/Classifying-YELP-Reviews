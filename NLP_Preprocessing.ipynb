{
  "nbformat": 4,
  "nbformat_minor": 0,
  "metadata": {
    "colab": {
      "name": "NLP Preprocessing.ipynb",
      "provenance": [],
      "collapsed_sections": [
        "jk6OejTSQS5T",
        "x11l_0m_QS5m",
        "3_sSc5jCQS5x",
        "j6_0N9ai1s95"
      ]
    },
    "kernelspec": {
      "name": "python3",
      "display_name": "Python 3"
    }
  },
  "cells": [
    {
      "cell_type": "markdown",
      "metadata": {
        "colab_type": "text",
        "id": "qnN11w0y0m2w"
      },
      "source": [
        "# About\n",
        "\n",
        "- These Code Snippets are used in NLP Preprocessing.\n",
        "- This includes -\n",
        " \n",
        "1.   Removing Punctuation\n",
        "2.   Removing Stopwords\n",
        "3.   Using Count Vectorizer to convert texts into numbers\n"
      ]
    },
    {
      "cell_type": "markdown",
      "metadata": {
        "id": "jk6OejTSQS5T",
        "colab_type": "text"
      },
      "source": [
        "# STEP 3.1: REMOVE PUNCTUATION"
      ]
    },
    {
      "cell_type": "code",
      "metadata": {
        "id": "bDccUvM-QS5U",
        "colab_type": "code",
        "colab": {}
      },
      "source": [
        "import string\n",
        "string.punctuation"
      ],
      "execution_count": 0,
      "outputs": []
    },
    {
      "cell_type": "code",
      "metadata": {
        "id": "lbvhuUR6QS5X",
        "colab_type": "code",
        "colab": {}
      },
      "source": [
        "Test = 'Hello Mr. Future, I am so happy to be learning AI now!!'"
      ],
      "execution_count": 0,
      "outputs": []
    },
    {
      "cell_type": "code",
      "metadata": {
        "id": "Fc4ddANhQS5a",
        "colab_type": "code",
        "colab": {}
      },
      "source": [
        "Test_punc_removed = [char for char in Test if char not in string.punctuation]\n",
        "Test_punc_removed"
      ],
      "execution_count": 0,
      "outputs": []
    },
    {
      "cell_type": "code",
      "metadata": {
        "id": "nEcQxlQrQS5e",
        "colab_type": "code",
        "colab": {}
      },
      "source": [
        "# Join the characters again to form the string.\n",
        "Test_punc_removed_join = ''.join(Test_punc_removed)\n",
        "Test_punc_removed_join"
      ],
      "execution_count": 0,
      "outputs": []
    },
    {
      "cell_type": "markdown",
      "metadata": {
        "id": "x11l_0m_QS5m",
        "colab_type": "text"
      },
      "source": [
        "# STEP 3.2: REMOVE STOPWORDS"
      ]
    },
    {
      "cell_type": "code",
      "metadata": {
        "id": "efUE1A_guubU",
        "colab_type": "code",
        "colab": {}
      },
      "source": [
        "import nltk\n",
        "nltk.download('all')"
      ],
      "execution_count": 0,
      "outputs": []
    },
    {
      "cell_type": "code",
      "metadata": {
        "scrolled": true,
        "id": "kdiO3lOhQS5m",
        "colab_type": "code",
        "colab": {}
      },
      "source": [
        "# You have to download stopwords Package to execute this command\n",
        "from nltk.corpus import stopwords\n",
        "stopwords.words('english')"
      ],
      "execution_count": 0,
      "outputs": []
    },
    {
      "cell_type": "code",
      "metadata": {
        "id": "XXT9s9dKQS5p",
        "colab_type": "code",
        "colab": {}
      },
      "source": [
        "Test_punc_removed_join"
      ],
      "execution_count": 0,
      "outputs": []
    },
    {
      "cell_type": "code",
      "metadata": {
        "id": "wYN-IQoOQS5s",
        "colab_type": "code",
        "colab": {}
      },
      "source": [
        "Test_punc_removed_join_clean = [word for word in Test_punc_removed_join.split() if word.lower() not in stopwords.words('english')]"
      ],
      "execution_count": 0,
      "outputs": []
    },
    {
      "cell_type": "code",
      "metadata": {
        "id": "MNJq4UYrQS5u",
        "colab_type": "code",
        "colab": {}
      },
      "source": [
        "Test_punc_removed_join_clean # Only important (no so common) words are left"
      ],
      "execution_count": 0,
      "outputs": []
    },
    {
      "cell_type": "markdown",
      "metadata": {
        "id": "3_sSc5jCQS5x",
        "colab_type": "text"
      },
      "source": [
        "# STEP 3.3: COUNT VECTORIZER EXAMPLE "
      ]
    },
    {
      "cell_type": "code",
      "metadata": {
        "id": "acPGKlt4QS5y",
        "colab_type": "code",
        "colab": {}
      },
      "source": [
        "from sklearn.feature_extraction.text import CountVectorizer\n",
        "sample_data = ['This is the first document.','This document is the second document.','And this is the third one.','Is this the first document?']\n",
        "\n",
        "vectorizer = CountVectorizer()\n",
        "X = vectorizer.fit_transform(sample_data)"
      ],
      "execution_count": 0,
      "outputs": []
    },
    {
      "cell_type": "code",
      "metadata": {
        "id": "f4-iAaCzQS50",
        "colab_type": "code",
        "colab": {}
      },
      "source": [
        "print(vectorizer.get_feature_names())"
      ],
      "execution_count": 0,
      "outputs": []
    },
    {
      "cell_type": "code",
      "metadata": {
        "id": "9TpzDaXIQS53",
        "colab_type": "code",
        "colab": {}
      },
      "source": [
        "print(X.toarray())  "
      ],
      "execution_count": 0,
      "outputs": []
    },
    {
      "cell_type": "markdown",
      "metadata": {
        "id": "j6_0N9ai1s95",
        "colab_type": "text"
      },
      "source": [
        "# Pipeline Function\n",
        " \n",
        "*   To Remove Punctuations\n",
        "*   To Remove Stopwords\n",
        "\n"
      ]
    },
    {
      "cell_type": "code",
      "metadata": {
        "id": "UMdzl660QS56",
        "colab_type": "code",
        "colab": {}
      },
      "source": [
        "#defining a pipeline to clean up all the messages \n",
        "#The pipeline performs the following: (1) remove punctuation, (2) remove stopwords\n",
        "\n",
        "def message_cleaning(message):\n",
        "    Test_punc_removed = [char for char in message if char not in string.punctuation]\n",
        "    Test_punc_removed_join = ''.join(Test_punc_removed)\n",
        "    Test_punc_removed_join_clean = [word for word in Test_punc_removed_join.split() if word.lower() not in stopwords.words('english')]\n",
        "    return Test_punc_removed_join_clean"
      ],
      "execution_count": 0,
      "outputs": []
    }
  ]
}